{
 "cells": [
  {
   "cell_type": "code",
   "execution_count": null,
   "id": "initial_id",
   "metadata": {
    "collapsed": true
   },
   "outputs": [],
   "source": []
  },
  {
   "cell_type": "code",
   "outputs": [],
   "source": [
    "import pandas as pd\n",
    "from sklearn.preprocessing import StandardScaler, OneHotEncoder\n",
    "from sklearn.compose import ColumnTransformer\n",
    "from sklearn.pipeline import Pipeline\n",
    "from sklearn.linear_model import LogisticRegression\n",
    "\n",
    "# Charger les données d'entraînement et de test\n",
    "train_data = pd.read_csv('train.csv')\n",
    "test_data = pd.read_csv('Test.csv')\n",
    "\n",
    "# Séparer les features et la cible dans les données d'entraînement\n",
    "X_train = train_data.drop(columns=['Exited'])\n",
    "y_train = train_data['Exited']\n",
    "\n",
    "# Prétraitement des données\n",
    "numeric_features = X_train.select_dtypes(include=['int64', 'float64']).columns\n",
    "categorical_features = X_train.select_dtypes(include=['object']).columns\n",
    "\n",
    "# Créer un preprocessor\n",
    "preprocessor = ColumnTransformer(\n",
    "    transformers=[\n",
    "        ('num', StandardScaler(), numeric_features),\n",
    "        ('cat', OneHotEncoder(handle_unknown='ignore'), categorical_features)\n",
    "    ])\n",
    "\n",
    "# Modèle\n",
    "model = LogisticRegression(max_iter=1000)\n",
    "\n",
    "# Pipeline\n",
    "pipeline = Pipeline(steps=[('preprocessor', preprocessor),\n",
    "                           ('classifier', model)])\n",
    "\n",
    "# Entraîner le modèle\n",
    "pipeline.fit(X_train, y_train)\n",
    "\n",
    "# Prétraitement des données de test\n",
    "X_test = test_data\n",
    "\n",
    "# Prédire la probabilité de 'Exited' pour les données de test\n",
    "test_probabilities = pipeline.predict_proba(X_test)[:, 1]\n",
    "\n",
    "# Créer un DataFrame pour les probabilités prédites\n",
    "submission_df = pd.DataFrame({'id': test_data['id'], 'Exited': test_probabilities})\n",
    "\n",
    "# Enregistrer les prédictions au format CSV\n",
    "submission_df.to_csv('predictionNDEYEKHADYKASSE.csv', index=False)"
   ],
   "metadata": {
    "collapsed": false,
    "ExecuteTime": {
     "end_time": "2024-05-03T17:43:34.951537Z",
     "start_time": "2024-05-03T17:43:24.241110Z"
    }
   },
   "id": "4917b9e82e2f0014",
   "execution_count": 3
  },
  {
   "cell_type": "code",
   "outputs": [],
   "source": [],
   "metadata": {
    "collapsed": false
   },
   "id": "39d2fba9fe24f82"
  },
  {
   "cell_type": "code",
   "outputs": [],
   "source": [],
   "metadata": {
    "collapsed": false
   },
   "id": "4366f74490163c76"
  }
 ],
 "metadata": {
  "kernelspec": {
   "display_name": "Python 3",
   "language": "python",
   "name": "python3"
  },
  "language_info": {
   "codemirror_mode": {
    "name": "ipython",
    "version": 2
   },
   "file_extension": ".py",
   "mimetype": "text/x-python",
   "name": "python",
   "nbconvert_exporter": "python",
   "pygments_lexer": "ipython2",
   "version": "2.7.6"
  }
 },
 "nbformat": 4,
 "nbformat_minor": 5
}
